{
 "cells": [
  {
   "cell_type": "code",
   "execution_count": 27,
   "id": "43be7db6-44bc-49e3-b91b-2af80e175601",
   "metadata": {},
   "outputs": [],
   "source": [
    "class vechile:\n",
    "    def __init__(self,name,speed,average):\n",
    "        self.name  = name\n",
    "        self.speed = speed\n",
    "        self.average = average\n",
    "        \n",
    "    \n",
    "        "
   ]
  },
  {
   "cell_type": "code",
   "execution_count": 28,
   "id": "f282bb7d-45d4-4c2d-9d67-b651ad0e2a56",
   "metadata": {},
   "outputs": [
    {
     "name": "stdout",
     "output_type": "stream",
     "text": [
      "220\n"
     ]
    }
   ],
   "source": [
    "car = vechile(\"toyota\",220,12)\n",
    "print(car.speed)"
   ]
  },
  {
   "cell_type": "code",
   "execution_count": 53,
   "id": "e868b876-91f2-444b-ae2a-405af31a5948",
   "metadata": {},
   "outputs": [],
   "source": [
    "class child(vechile):\n",
    "    def seating(self,capacity):\n",
    "        \n",
    "        return f\"{self.name}  which has a high speed of {self.speed} and milage of {self.average} has a seating capacity of {capacity}.\"\n",
    "        \n",
    "    "
   ]
  },
  {
   "cell_type": "code",
   "execution_count": 54,
   "id": "b32a029c-e822-4a9f-b1ec-51b60c17a110",
   "metadata": {},
   "outputs": [],
   "source": [
    "obj = child(\"tata\",110,15)"
   ]
  },
  {
   "cell_type": "code",
   "execution_count": 55,
   "id": "d1514e73-eba5-4160-b26b-ab3105be2a9c",
   "metadata": {},
   "outputs": [
    {
     "name": "stdout",
     "output_type": "stream",
     "text": [
      "tata  which has a high speed of 110 and milage of 15 has a seating capacity of 4.\n"
     ]
    }
   ],
   "source": [
    "print(obj.seating(4))"
   ]
  },
  {
   "cell_type": "code",
   "execution_count": null,
   "id": "57f9e8df-19d6-4e0f-98bd-17b791f8ea55",
   "metadata": {},
   "outputs": [],
   "source": [
    "\"\"\"What is multiple inheritance? Write a python code to demonstrate multiple inheritance"
   ]
  },
  {
   "cell_type": "code",
   "execution_count": null,
   "id": "9c0e9118-d926-40a2-ac77-a47c9e35e9f5",
   "metadata": {},
   "outputs": [],
   "source": [
    "multiple inheritance is a feature of object oriented programing in which a single class can \n",
    "inherit attributes and method from multiple classes.\n",
    "this allows a class to inherit properties from more than one parent class,\n",
    "creating a hybrid class that has the combined properties of all its parent classes."
   ]
  },
  {
   "cell_type": "code",
   "execution_count": 1,
   "id": "7ba09129-d11e-4ead-9fe2-9566f6c264b7",
   "metadata": {},
   "outputs": [
    {
     "name": "stdout",
     "output_type": "stream",
     "text": [
      "V8 engine has started.\n",
      "The body type is Sedan.\n"
     ]
    }
   ],
   "source": [
    "class Engine:\n",
    "    def __init__(self, engine_type):\n",
    "        self.engine_type = engine_type\n",
    "\n",
    "    def start_engine(self):\n",
    "        return f\"{self.engine_type} engine has started.\"\n",
    "\n",
    "class Body:\n",
    "    def __init__(self, body_type):\n",
    "        self.body_type = body_type\n",
    "\n",
    "    def display_body_type(self):\n",
    "        return f\"The body type is {self.body_type}.\"\n",
    "\n",
    "class Car(Engine, Body):\n",
    "    def __init__(self, engine_type, body_type):\n",
    "        Engine.__init__(self, engine_type)\n",
    "        Body.__init__(self, body_type)\n",
    "\n",
    "my_car = Car(\"V8\", \"Sedan\")\n",
    "print(my_car.start_engine())\n",
    "print(my_car.display_body_type())"
   ]
  },
  {
   "cell_type": "code",
   "execution_count": null,
   "id": "c757ac4f-c4df-4268-90b7-4a988571e2c0",
   "metadata": {},
   "outputs": [],
   "source": [
    "\"\"\"What are getter and setter in python? Create a class and create a getter and a setter method in this class."
   ]
  },
  {
   "cell_type": "code",
   "execution_count": null,
   "id": "0416b9d4-58e1-4ab6-a3c6-be7fa0778489",
   "metadata": {},
   "outputs": [],
   "source": [
    "Getters and setters are methods in object-oriented programming that are used to get and set the values of object properties, respectively.\n",
    "They provide a convenient way to access and modify object properties, while also allowing you to enforce specific rules for getting and setting values.\n"
   ]
  },
  {
   "cell_type": "code",
   "execution_count": null,
   "id": "db1e8413-ec56-42fb-8e76-8bbdf4ab9661",
   "metadata": {},
   "outputs": [],
   "source": [
    "\"\"\"What is method overriding in python? Write a python code to demonstrate method overriding."
   ]
  },
  {
   "cell_type": "code",
   "execution_count": null,
   "id": "e858b176-9b9e-4849-ad68-ac27d10e6f60",
   "metadata": {},
   "outputs": [],
   "source": [
    "Method overriding is a feature of object-oriented programming that allows a subclass to provide a new implementation for a method that is already defined in its parent class. When a subclass overrides a method, it replaces the original implementation of that method with its own version. The subclass can then provide its own logic for the method, which can be different from the original implementation in the parent class"
   ]
  },
  {
   "cell_type": "code",
   "execution_count": 2,
   "id": "369bd3d9-f5aa-4eaa-8c73-f07497756092",
   "metadata": {},
   "outputs": [
    {
     "name": "stdout",
     "output_type": "stream",
     "text": [
      "The car engine has started with a vroom.\n"
     ]
    }
   ],
   "source": [
    "class Vehicle:\n",
    "    def __init__(self, make, model, year):\n",
    "        self.make = make\n",
    "        self.model = model\n",
    "        self.year = year\n",
    "\n",
    "    def start_engine(self):\n",
    "        return f\"The {self.make} {self.model} ({self.year}) engine has started.\"\n",
    "\n",
    "class Car(Vehicle):\n",
    "    def start_engine(self):\n",
    "        return f\"The car engine has started with a vroom.\"\n",
    "\n",
    "my_car = Car(\"Toyota\", \"Camry\", 2020)\n",
    "print(my_car.start_engine())\n"
   ]
  },
  {
   "cell_type": "code",
   "execution_count": null,
   "id": "69aeb9ea-e8cf-42a9-ae86-4e07d9f4c8f3",
   "metadata": {},
   "outputs": [],
   "source": []
  }
 ],
 "metadata": {
  "kernelspec": {
   "display_name": "Python 3 (ipykernel)",
   "language": "python",
   "name": "python3"
  },
  "language_info": {
   "codemirror_mode": {
    "name": "ipython",
    "version": 3
   },
   "file_extension": ".py",
   "mimetype": "text/x-python",
   "name": "python",
   "nbconvert_exporter": "python",
   "pygments_lexer": "ipython3",
   "version": "3.10.8"
  }
 },
 "nbformat": 4,
 "nbformat_minor": 5
}
